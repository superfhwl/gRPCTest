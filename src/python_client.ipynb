{
 "cells": [
  {
   "cell_type": "markdown",
   "metadata": {},
   "source": [
    "## 使用Python实现GRPC客户端代码"
   ]
  },
  {
   "cell_type": "markdown",
   "metadata": {},
   "source": [
    "### 生成protobuf 和 grpc 的 pb.py 文件"
   ]
  },
  {
   "cell_type": "code",
   "execution_count": 3,
   "metadata": {},
   "outputs": [
    {
     "data": {
      "text/plain": [
       "0"
      ]
     },
     "execution_count": 3,
     "metadata": {},
     "output_type": "execute_result"
    }
   ],
   "source": [
    "import os\n",
    "from grpc_tools import protoc\n",
    "\n",
    "proto_file = \"protos/message.proto\"\n",
    "output_dir = \"../build/src/protos\"\n",
    "\n",
    "if not os.path.exists(output_dir):\n",
    "    os.makedirs(output_dir)\n",
    "\n",
    "protoc.main((\n",
    "    '',\n",
    "    f'-I{os.path.dirname(proto_file)}',\n",
    "    f'--python_out={output_dir}',\n",
    "    f'--grpc_python_out={output_dir}',\n",
    "    proto_file,\n",
    "))"
   ]
  },
  {
   "cell_type": "code",
   "execution_count": 4,
   "metadata": {},
   "outputs": [],
   "source": [
    "from __future__ import print_function\n",
    "import grpc\n",
    "\n",
    "import sys\n",
    "import os\n",
    "\n",
    "# 动态添加路径到 sys.path\n",
    "proto_path = os.path.abspath(os.path.join('..', 'build', 'src', 'protos'))\n",
    "sys.path.append(proto_path)\n",
    "\n",
    "# 现在可以导入 message_pb2\n",
    "import message_pb2\n",
    "import message_pb2_grpc\n"
   ]
  },
  {
   "cell_type": "code",
   "execution_count": 9,
   "metadata": {},
   "outputs": [
    {
     "name": "stdout",
     "output_type": "stream",
     "text": [
      "Greeter client received: Hello World 2\n"
     ]
    }
   ],
   "source": [
    "\n",
    "\n",
    "def run():\n",
    "  with grpc.insecure_channel('localhost:50051') as channel:\n",
    "    stub = message_pb2_grpc.GreetServiceStub(channel)\n",
    "    response = stub.SayHello(message_pb2.HelloRequest(name='World 2'))\n",
    "    print(\"Greeter client received: \" + response.message)\n",
    "\n",
    "if __name__ == '__main__':\n",
    "    run()"
   ]
  }
 ],
 "metadata": {
  "kernelspec": {
   "display_name": "base",
   "language": "python",
   "name": "python3"
  },
  "language_info": {
   "codemirror_mode": {
    "name": "ipython",
    "version": 3
   },
   "file_extension": ".py",
   "mimetype": "text/x-python",
   "name": "python",
   "nbconvert_exporter": "python",
   "pygments_lexer": "ipython3",
   "version": "3.11.7"
  }
 },
 "nbformat": 4,
 "nbformat_minor": 2
}
