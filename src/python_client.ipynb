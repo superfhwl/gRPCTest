{
 "cells": [
  {
   "cell_type": "markdown",
   "metadata": {},
   "source": [
    "## 使用Python实现GRPC客户端代码"
   ]
  },
  {
   "cell_type": "markdown",
   "metadata": {},
   "source": [
    "### 生成protobuf 和 grpc 的 pb.py 文件"
   ]
  },
  {
   "cell_type": "code",
   "execution_count": null,
   "metadata": {},
   "outputs": [],
   "source": [
    "import os\n",
    "from grpc_tools import protoc\n",
    "\n",
    "proto_file = \"protos/message.proto\"\n",
    "output_dir = \"../build/src/protos\"\n",
    "\n",
    "if not os.path.exists(output_dir):\n",
    "    os.makedirs(output_dir)\n",
    "\n",
    "protoc.main((\n",
    "    '',\n",
    "    f'-I{os.path.dirname(proto_file)}',\n",
    "    f'--python_out={output_dir}',\n",
    "    f'--grpc_python_out={output_dir}',\n",
    "    proto_file,\n",
    "))"
   ]
  },
  {
   "cell_type": "code",
   "execution_count": null,
   "metadata": {},
   "outputs": [],
   "source": [
    "from __future__ import print_function\n",
    "import grpc\n",
    "\n",
    "import sys\n",
    "import os\n",
    "\n",
    "# 动态添加路径到 sys.path\n",
    "proto_path = os.path.abspath(os.path.join('..', 'build', 'src', 'protos'))\n",
    "sys.path.append(proto_path)\n",
    "\n",
    "# 现在可以导入 message_pb2\n",
    "import message_pb2\n",
    "import message_pb2_grpc\n",
    "\n"
   ]
  },
  {
   "cell_type": "code",
   "execution_count": null,
   "metadata": {},
   "outputs": [],
   "source": [
    "import threading\n",
    "import time\n",
    "\n",
    "# 定义要发送的请求\n",
    "def send_request(agent_name):\n",
    "    # 每个线程发送1000次消息，间隔 10ms\n",
    "    response_messages = []\n",
    "    for req_time in range(1000):\n",
    "        with grpc.insecure_channel('localhost:50051') as channel:\n",
    "            stub = message_pb2_grpc.GreetServiceStub(channel)\n",
    "            response = stub.SayHello(message_pb2.HelloRequest(name=agent_name))\n",
    "            response_messages.append(response.message)\n",
    "        time.sleep(0.01)\n",
    "\n",
    "    print(f\"{agent_name} Stoped! received messages: {response_messages}\")\n",
    "\n",
    "\n",
    "def run():\n",
    "    # 创建100个线程并启动\n",
    "    threads = []\n",
    "    for agent_idx in range(100):\n",
    "        agent_name = f\"Agent {agent_idx}\"\n",
    "        thread = threading.Thread(target=send_request, args=(agent_name,))\n",
    "        thread.start()\n",
    "        threads.append(thread)\n",
    "        print(f\"Greeter client started! Name = {agent_name}\")\n",
    "        time.sleep(0.05)  # Wait for 50 milliseconds\n",
    "\n",
    "    # 等待所有线程完成\n",
    "    for thread in threads:\n",
    "        thread.join()\n",
    "\n",
    "\n",
    "def main():\n",
    "    run()\n",
    "\n",
    "\n",
    "if __name__ == \"__main__\":\n",
    "    main()"
   ]
  }
 ],
 "metadata": {
  "kernelspec": {
   "display_name": "base",
   "language": "python",
   "name": "python3"
  },
  "language_info": {
   "codemirror_mode": {
    "name": "ipython",
    "version": 3
   },
   "file_extension": ".py",
   "mimetype": "text/x-python",
   "name": "python",
   "nbconvert_exporter": "python",
   "pygments_lexer": "ipython3",
   "version": "3.11.7"
  }
 },
 "nbformat": 4,
 "nbformat_minor": 2
}
